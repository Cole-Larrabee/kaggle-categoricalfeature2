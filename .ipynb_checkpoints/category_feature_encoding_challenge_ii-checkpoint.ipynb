{
 "cells": [
  {
   "cell_type": "markdown",
   "metadata": {},
   "source": [
    "# Kaggle Categorical Feature Encoding Challenge II"
   ]
  },
  {
   "cell_type": "code",
   "execution_count": 227,
   "metadata": {},
   "outputs": [],
   "source": [
    "import pandas as pd\n",
    "import numpy as np\n",
    "import string\n",
    "from sklearn.model_selection import train_test_split\n",
    "from pandas.api.types import CategoricalDtype \n",
    "from sklearn.linear_model import LogisticRegression\n",
    "from sklearn.metrics import accuracy_score\n",
    "from scipy import stats\n",
    "import matplotlib.pyplot as plt\n",
    "import numpy as np\n",
    "%matplotlib inline"
   ]
  },
  {
   "cell_type": "code",
   "execution_count": 228,
   "metadata": {},
   "outputs": [],
   "source": [
    "train = pd.read_csv('train.csv')\n",
    "test = pd.read_csv('test.csv')"
   ]
  },
  {
   "cell_type": "code",
   "execution_count": 229,
   "metadata": {},
   "outputs": [],
   "source": [
    "def overview_table(df):\n",
    "    print(f\"Dataset Shape: {df.shape}\")\n",
    "    summary = pd.DataFrame(df.dtypes,columns=['dtypes'])\n",
    "    summary = summary.reset_index()\n",
    "    summary['Name'] = summary['index']\n",
    "    summary = summary[['Name','dtypes']]\n",
    "    summary['Missing'] = df.isnull().sum().values    \n",
    "    summary['Uniques'] = df.nunique().values\n",
    "    summary['First Value'] = df.loc[0].values\n",
    "    summary['Second Value'] = df.loc[1].values\n",
    "    summary['Third Value'] = df.loc[2].values\n",
    "    for name in summary['Name'].value_counts().index:\n",
    "        summary.loc[summary['Name'] == name, 'Entropy'] = round(stats.entropy(df[name].value_counts(normalize=True), base=2),2)\n",
    "    return summary"
   ]
  },
  {
   "cell_type": "markdown",
   "metadata": {},
   "source": [
    "\n",
    "\n",
    "Let's take an overview of the entire training set. From the output, it appears that for most of the columns, roughly 9% of values are missing. It's worth investigating further to get more information on these missing values"
   ]
  },
  {
   "cell_type": "code",
   "execution_count": 230,
   "metadata": {},
   "outputs": [
    {
     "name": "stdout",
     "output_type": "stream",
     "text": [
      "Dataset Shape: (600000, 25)\n"
     ]
    },
    {
     "data": {
      "text/html": [
       "<div>\n",
       "<style scoped>\n",
       "    .dataframe tbody tr th:only-of-type {\n",
       "        vertical-align: middle;\n",
       "    }\n",
       "\n",
       "    .dataframe tbody tr th {\n",
       "        vertical-align: top;\n",
       "    }\n",
       "\n",
       "    .dataframe thead th {\n",
       "        text-align: right;\n",
       "    }\n",
       "</style>\n",
       "<table border=\"1\" class=\"dataframe\">\n",
       "  <thead>\n",
       "    <tr style=\"text-align: right;\">\n",
       "      <th></th>\n",
       "      <th>Name</th>\n",
       "      <th>dtypes</th>\n",
       "      <th>Missing</th>\n",
       "      <th>Uniques</th>\n",
       "      <th>First Value</th>\n",
       "      <th>Second Value</th>\n",
       "      <th>Third Value</th>\n",
       "      <th>Entropy</th>\n",
       "    </tr>\n",
       "  </thead>\n",
       "  <tbody>\n",
       "    <tr>\n",
       "      <th>0</th>\n",
       "      <td>id</td>\n",
       "      <td>int64</td>\n",
       "      <td>0</td>\n",
       "      <td>600000</td>\n",
       "      <td>0</td>\n",
       "      <td>1</td>\n",
       "      <td>2</td>\n",
       "      <td>19.19</td>\n",
       "    </tr>\n",
       "    <tr>\n",
       "      <th>1</th>\n",
       "      <td>bin_0</td>\n",
       "      <td>float64</td>\n",
       "      <td>17894</td>\n",
       "      <td>2</td>\n",
       "      <td>0</td>\n",
       "      <td>1</td>\n",
       "      <td>0</td>\n",
       "      <td>0.44</td>\n",
       "    </tr>\n",
       "    <tr>\n",
       "      <th>2</th>\n",
       "      <td>bin_1</td>\n",
       "      <td>float64</td>\n",
       "      <td>18003</td>\n",
       "      <td>2</td>\n",
       "      <td>0</td>\n",
       "      <td>1</td>\n",
       "      <td>1</td>\n",
       "      <td>0.69</td>\n",
       "    </tr>\n",
       "    <tr>\n",
       "      <th>3</th>\n",
       "      <td>bin_2</td>\n",
       "      <td>float64</td>\n",
       "      <td>17930</td>\n",
       "      <td>2</td>\n",
       "      <td>0</td>\n",
       "      <td>0</td>\n",
       "      <td>0</td>\n",
       "      <td>0.85</td>\n",
       "    </tr>\n",
       "    <tr>\n",
       "      <th>4</th>\n",
       "      <td>bin_3</td>\n",
       "      <td>object</td>\n",
       "      <td>18014</td>\n",
       "      <td>2</td>\n",
       "      <td>F</td>\n",
       "      <td>F</td>\n",
       "      <td>F</td>\n",
       "      <td>0.95</td>\n",
       "    </tr>\n",
       "    <tr>\n",
       "      <th>5</th>\n",
       "      <td>bin_4</td>\n",
       "      <td>object</td>\n",
       "      <td>18047</td>\n",
       "      <td>2</td>\n",
       "      <td>N</td>\n",
       "      <td>Y</td>\n",
       "      <td>N</td>\n",
       "      <td>1.00</td>\n",
       "    </tr>\n",
       "    <tr>\n",
       "      <th>6</th>\n",
       "      <td>nom_0</td>\n",
       "      <td>object</td>\n",
       "      <td>18252</td>\n",
       "      <td>3</td>\n",
       "      <td>Red</td>\n",
       "      <td>Red</td>\n",
       "      <td>Red</td>\n",
       "      <td>1.31</td>\n",
       "    </tr>\n",
       "    <tr>\n",
       "      <th>7</th>\n",
       "      <td>nom_1</td>\n",
       "      <td>object</td>\n",
       "      <td>18156</td>\n",
       "      <td>6</td>\n",
       "      <td>Trapezoid</td>\n",
       "      <td>Star</td>\n",
       "      <td>NaN</td>\n",
       "      <td>2.27</td>\n",
       "    </tr>\n",
       "    <tr>\n",
       "      <th>8</th>\n",
       "      <td>nom_2</td>\n",
       "      <td>object</td>\n",
       "      <td>18035</td>\n",
       "      <td>6</td>\n",
       "      <td>Hamster</td>\n",
       "      <td>Axolotl</td>\n",
       "      <td>Hamster</td>\n",
       "      <td>2.27</td>\n",
       "    </tr>\n",
       "    <tr>\n",
       "      <th>9</th>\n",
       "      <td>nom_3</td>\n",
       "      <td>object</td>\n",
       "      <td>18121</td>\n",
       "      <td>6</td>\n",
       "      <td>Russia</td>\n",
       "      <td>NaN</td>\n",
       "      <td>Canada</td>\n",
       "      <td>2.27</td>\n",
       "    </tr>\n",
       "    <tr>\n",
       "      <th>10</th>\n",
       "      <td>nom_4</td>\n",
       "      <td>object</td>\n",
       "      <td>18035</td>\n",
       "      <td>4</td>\n",
       "      <td>Bassoon</td>\n",
       "      <td>Theremin</td>\n",
       "      <td>Bassoon</td>\n",
       "      <td>1.52</td>\n",
       "    </tr>\n",
       "    <tr>\n",
       "      <th>11</th>\n",
       "      <td>nom_5</td>\n",
       "      <td>object</td>\n",
       "      <td>17778</td>\n",
       "      <td>1220</td>\n",
       "      <td>de4c57ee2</td>\n",
       "      <td>2bb3c3e5c</td>\n",
       "      <td>b574c9841</td>\n",
       "      <td>9.98</td>\n",
       "    </tr>\n",
       "    <tr>\n",
       "      <th>12</th>\n",
       "      <td>nom_6</td>\n",
       "      <td>object</td>\n",
       "      <td>18131</td>\n",
       "      <td>1519</td>\n",
       "      <td>a64bc7ddf</td>\n",
       "      <td>3a3a936e8</td>\n",
       "      <td>708248125</td>\n",
       "      <td>10.30</td>\n",
       "    </tr>\n",
       "    <tr>\n",
       "      <th>13</th>\n",
       "      <td>nom_7</td>\n",
       "      <td>object</td>\n",
       "      <td>18003</td>\n",
       "      <td>222</td>\n",
       "      <td>598080a91</td>\n",
       "      <td>1dddb8473</td>\n",
       "      <td>5ddc9a726</td>\n",
       "      <td>7.54</td>\n",
       "    </tr>\n",
       "    <tr>\n",
       "      <th>14</th>\n",
       "      <td>nom_8</td>\n",
       "      <td>object</td>\n",
       "      <td>17755</td>\n",
       "      <td>222</td>\n",
       "      <td>0256c7a4b</td>\n",
       "      <td>52ead350c</td>\n",
       "      <td>745b909d1</td>\n",
       "      <td>7.54</td>\n",
       "    </tr>\n",
       "    <tr>\n",
       "      <th>15</th>\n",
       "      <td>nom_9</td>\n",
       "      <td>object</td>\n",
       "      <td>18073</td>\n",
       "      <td>2218</td>\n",
       "      <td>02e7c8990</td>\n",
       "      <td>f37df64af</td>\n",
       "      <td>NaN</td>\n",
       "      <td>10.84</td>\n",
       "    </tr>\n",
       "    <tr>\n",
       "      <th>16</th>\n",
       "      <td>ord_0</td>\n",
       "      <td>float64</td>\n",
       "      <td>18288</td>\n",
       "      <td>3</td>\n",
       "      <td>3</td>\n",
       "      <td>3</td>\n",
       "      <td>3</td>\n",
       "      <td>1.57</td>\n",
       "    </tr>\n",
       "    <tr>\n",
       "      <th>17</th>\n",
       "      <td>ord_1</td>\n",
       "      <td>object</td>\n",
       "      <td>18041</td>\n",
       "      <td>5</td>\n",
       "      <td>Contributor</td>\n",
       "      <td>Grandmaster</td>\n",
       "      <td>NaN</td>\n",
       "      <td>2.27</td>\n",
       "    </tr>\n",
       "    <tr>\n",
       "      <th>18</th>\n",
       "      <td>ord_2</td>\n",
       "      <td>object</td>\n",
       "      <td>18075</td>\n",
       "      <td>6</td>\n",
       "      <td>Hot</td>\n",
       "      <td>Warm</td>\n",
       "      <td>Freezing</td>\n",
       "      <td>2.52</td>\n",
       "    </tr>\n",
       "    <tr>\n",
       "      <th>19</th>\n",
       "      <td>ord_3</td>\n",
       "      <td>object</td>\n",
       "      <td>17916</td>\n",
       "      <td>15</td>\n",
       "      <td>c</td>\n",
       "      <td>e</td>\n",
       "      <td>n</td>\n",
       "      <td>3.64</td>\n",
       "    </tr>\n",
       "    <tr>\n",
       "      <th>20</th>\n",
       "      <td>ord_4</td>\n",
       "      <td>object</td>\n",
       "      <td>17930</td>\n",
       "      <td>26</td>\n",
       "      <td>U</td>\n",
       "      <td>X</td>\n",
       "      <td>P</td>\n",
       "      <td>4.41</td>\n",
       "    </tr>\n",
       "    <tr>\n",
       "      <th>21</th>\n",
       "      <td>ord_5</td>\n",
       "      <td>object</td>\n",
       "      <td>17713</td>\n",
       "      <td>190</td>\n",
       "      <td>Pw</td>\n",
       "      <td>pE</td>\n",
       "      <td>eN</td>\n",
       "      <td>7.27</td>\n",
       "    </tr>\n",
       "    <tr>\n",
       "      <th>22</th>\n",
       "      <td>day</td>\n",
       "      <td>float64</td>\n",
       "      <td>17952</td>\n",
       "      <td>7</td>\n",
       "      <td>6</td>\n",
       "      <td>7</td>\n",
       "      <td>5</td>\n",
       "      <td>2.70</td>\n",
       "    </tr>\n",
       "    <tr>\n",
       "      <th>23</th>\n",
       "      <td>month</td>\n",
       "      <td>float64</td>\n",
       "      <td>17988</td>\n",
       "      <td>12</td>\n",
       "      <td>3</td>\n",
       "      <td>7</td>\n",
       "      <td>9</td>\n",
       "      <td>3.37</td>\n",
       "    </tr>\n",
       "    <tr>\n",
       "      <th>24</th>\n",
       "      <td>target</td>\n",
       "      <td>int64</td>\n",
       "      <td>0</td>\n",
       "      <td>2</td>\n",
       "      <td>0</td>\n",
       "      <td>0</td>\n",
       "      <td>0</td>\n",
       "      <td>0.70</td>\n",
       "    </tr>\n",
       "  </tbody>\n",
       "</table>\n",
       "</div>"
      ],
      "text/plain": [
       "      Name   dtypes  Missing  Uniques  First Value Second Value Third Value  \\\n",
       "0       id    int64        0   600000            0            1           2   \n",
       "1    bin_0  float64    17894        2            0            1           0   \n",
       "2    bin_1  float64    18003        2            0            1           1   \n",
       "3    bin_2  float64    17930        2            0            0           0   \n",
       "4    bin_3   object    18014        2            F            F           F   \n",
       "5    bin_4   object    18047        2            N            Y           N   \n",
       "6    nom_0   object    18252        3          Red          Red         Red   \n",
       "7    nom_1   object    18156        6    Trapezoid         Star         NaN   \n",
       "8    nom_2   object    18035        6      Hamster      Axolotl     Hamster   \n",
       "9    nom_3   object    18121        6       Russia          NaN      Canada   \n",
       "10   nom_4   object    18035        4      Bassoon     Theremin     Bassoon   \n",
       "11   nom_5   object    17778     1220    de4c57ee2    2bb3c3e5c   b574c9841   \n",
       "12   nom_6   object    18131     1519    a64bc7ddf    3a3a936e8   708248125   \n",
       "13   nom_7   object    18003      222    598080a91    1dddb8473   5ddc9a726   \n",
       "14   nom_8   object    17755      222    0256c7a4b    52ead350c   745b909d1   \n",
       "15   nom_9   object    18073     2218    02e7c8990    f37df64af         NaN   \n",
       "16   ord_0  float64    18288        3            3            3           3   \n",
       "17   ord_1   object    18041        5  Contributor  Grandmaster         NaN   \n",
       "18   ord_2   object    18075        6          Hot         Warm    Freezing   \n",
       "19   ord_3   object    17916       15            c            e           n   \n",
       "20   ord_4   object    17930       26            U            X           P   \n",
       "21   ord_5   object    17713      190           Pw           pE          eN   \n",
       "22     day  float64    17952        7            6            7           5   \n",
       "23   month  float64    17988       12            3            7           9   \n",
       "24  target    int64        0        2            0            0           0   \n",
       "\n",
       "    Entropy  \n",
       "0     19.19  \n",
       "1      0.44  \n",
       "2      0.69  \n",
       "3      0.85  \n",
       "4      0.95  \n",
       "5      1.00  \n",
       "6      1.31  \n",
       "7      2.27  \n",
       "8      2.27  \n",
       "9      2.27  \n",
       "10     1.52  \n",
       "11     9.98  \n",
       "12    10.30  \n",
       "13     7.54  \n",
       "14     7.54  \n",
       "15    10.84  \n",
       "16     1.57  \n",
       "17     2.27  \n",
       "18     2.52  \n",
       "19     3.64  \n",
       "20     4.41  \n",
       "21     7.27  \n",
       "22     2.70  \n",
       "23     3.37  \n",
       "24     0.70  "
      ]
     },
     "execution_count": 230,
     "metadata": {},
     "output_type": "execute_result"
    }
   ],
   "source": [
    "overview_table(train)"
   ]
  },
  {
   "cell_type": "markdown",
   "metadata": {},
   "source": [
    "## Null Value Analysis"
   ]
  },
  {
   "cell_type": "markdown",
   "metadata": {},
   "source": [
    "It appears that the majority of the time there is either no null or one null on any given given row. This eliminates the possibility that there are many rows where many of the features are null at once. It appears very inconsistent. I would still like to look further at the null's by column and see their impact on the predictor before taking any action on them."
   ]
  },
  {
   "cell_type": "markdown",
   "metadata": {},
   "source": [
    "missing_vals = train.isnull().sum(axis=1)\n",
    "plt.hist(missing_vals, normed=True, bins=30)\n",
    "plt.ylabel('Probability');\n",
    "plt.title('Number of Nulls in a Row')\n",
    "plt.show()"
   ]
  },
  {
   "cell_type": "code",
   "execution_count": 231,
   "metadata": {},
   "outputs": [],
   "source": [
    "#train[train['bin_0'].notna()]['target'].value_counts()/len(train[train['bin_0'].notna()])\n",
    "sel_cols = ['bin_0', 'bin_1', 'bin_2', 'bin_3', 'bin_4', 'nom_0', 'nom_1','nom_2', 'nom_3', 'nom_4', 'nom_5', \n",
    "            'nom_6', 'nom_7', 'nom_8', 'nom_9','ord_0', 'ord_1', 'ord_2', 'ord_3', 'ord_4', 'ord_5', 'day', 'month']\n",
    "na_diff = []\n",
    "col_diff = []\n",
    "for col in sel_cols:\n",
    "    col_diff.append(col)\n",
    "    na_diff.append((train[train[col].notna()]['target'].value_counts()/len(train[train[col].notna()]))[0]-\\\n",
    "                   (train[train[col].isna()]['target'].value_counts()/len(train[train[col].isna()]))[0])"
   ]
  },
  {
   "cell_type": "markdown",
   "metadata": {},
   "source": [
    "I want to now compare the null values against the non-nulls and see their impact for each feature against the predictor variable. It doesn't appear that any of the features having null values leads to a signficantly different result against the non-nulls. The most signficant deviation was day changing by 0.8% lower in the not-nas. This makes me more comfortable processing these na's without worrying about signficant impact"
   ]
  },
  {
   "cell_type": "code",
   "execution_count": 232,
   "metadata": {
    "scrolled": false
   },
   "outputs": [
    {
     "data": {
      "image/png": "[encoded data removed]",
      "text/plain": [
       "<Figure size 432x288 with 1 Axes>"
      ]
     },
     "metadata": {
      "needs_background": "light"
     },
     "output_type": "display_data"
    }
   ],
   "source": [
    "plt.bar(col_diff,na_diff)\n",
    "plt.xticks(rotation='vertical')\n",
    "plt.title(\"Percent difference between null values vs. non-null values on predictor variable\")\n",
    "plt.show()"
   ]
  },
  {
   "cell_type": "markdown",
   "metadata": {},
   "source": [
    "## Feature Engineering"
   ]
  },
  {
   "cell_type": "markdown",
   "metadata": {},
   "source": [
    "### Binary Features"
   ]
  },
  {
   "cell_type": "markdown",
   "metadata": {},
   "source": [
    "For the binary features, I will change the missing values/na's to be -1, creating a category for themself as to not improperly weight the balance already existing in the feature."
   ]
  },
  {
   "cell_type": "code",
   "execution_count": 233,
   "metadata": {},
   "outputs": [],
   "source": [
    "#The first 3 bin features are already in numeric representation so I just need to apply fillna\n",
    "train['bin_0'] = train['bin_0'].fillna(-1)\n",
    "test['bin_0'] = test['bin_0'].fillna(-1)\n",
    "train['bin_1'] = train['bin_1'].fillna(-1)\n",
    "test['bin_1'] = test['bin_1'].fillna(-1)\n",
    "train['bin_2'] = train['bin_2'].fillna(-1)\n",
    "test['bin_2'] = test['bin_2'].fillna(-1)"
   ]
  },
  {
   "cell_type": "code",
   "execution_count": 234,
   "metadata": {},
   "outputs": [],
   "source": [
    "repl = {'T' : 1, 'F' : 0, 'Y' : 1, 'N' : 0}\n",
    "#map numeric values\n",
    "train['bin_3'] = train['bin_3'].map(repl)\n",
    "test['bin_3'] = test['bin_3'].map(repl)\n",
    "train['bin_4'] = train['bin_4'].map(repl)\n",
    "test['bin_4'] = test['bin_4'].map(repl)\n",
    "#replace nas\n",
    "train['bin_3'] = train['bin_3'].fillna(-1)\n",
    "test['bin_3'] = test['bin_3'].fillna(-1)\n",
    "train['bin_4'] = train['bin_4'].fillna(-1)\n",
    "test['bin_4'] = test['bin_4'].fillna(-1)"
   ]
  },
  {
   "cell_type": "markdown",
   "metadata": {},
   "source": [
    "### Low-Cardinality Nominal Features"
   ]
  },
  {
   "cell_type": "code",
   "execution_count": 235,
   "metadata": {},
   "outputs": [],
   "source": [
    "#One hot encode nominal features\n",
    "train = pd.get_dummies(train, columns=['nom_0', 'nom_1', 'nom_2', 'nom_3', 'nom_4'],\\\n",
    "                          prefix=['nom_0', 'nom_1', 'nom_2', 'nom_3', 'nom_4'],dummy_na=True,drop_first=True)\n",
    "test = pd.get_dummies(test, columns=['nom_0', 'nom_1', 'nom_2', 'nom_3', 'nom_4'],\\\n",
    "                          prefix=['nom_0', 'nom_1', 'nom_2', 'nom_3', 'nom_4'],dummy_na=True,drop_first=True)"
   ]
  },
  {
   "cell_type": "markdown",
   "metadata": {},
   "source": [
    "### High-Cardinality Nominal Features"
   ]
  },
  {
   "cell_type": "code",
   "execution_count": 236,
   "metadata": {},
   "outputs": [],
   "source": [
    "high_card_nom = ['nom_5', 'nom_6', 'nom_7', 'nom_8', 'nom_9']\n",
    "\n",
    "for col in high_card_nom:\n",
    "    train[f'hash_{col}'] = train[col].apply( lambda x: hash(str(x)) % 5000 )\n",
    "    test[f'hash_{col}'] = test[col].apply( lambda x: hash(str(x)) % 5000 )\n",
    "    train = train.drop([col], axis = 1)\n",
    "    test = test.drop([col], axis = 1)"
   ]
  },
  {
   "cell_type": "markdown",
   "metadata": {},
   "source": [
    "It appears that the hashed value of an NA is 3898 as can be seen from the histogram below. I will evaluate whether or not this should be imputed with the mean value or it should be left in this position"
   ]
  },
  {
   "cell_type": "code",
   "execution_count": 237,
   "metadata": {
    "scrolled": true
   },
   "outputs": [
    {
     "data": {
      "image/png": "[encoded data removed]",
      "text/plain": [
       "<Figure size 432x288 with 1 Axes>"
      ]
     },
     "metadata": {
      "needs_background": "light"
     },
     "output_type": "display_data"
    }
   ],
   "source": [
    "plt.hist(train['hash_nom_6'], bins = 100,color = 'purple')\n",
    "plt.ylabel('Count');\n",
    "plt.title('Distribution of Hashed Values for Nom_6')\n",
    "plt.show()"
   ]
  },
  {
   "cell_type": "markdown",
   "metadata": {},
   "source": [
    "### Low-Cardinality Ordinal Features"
   ]
  },
  {
   "cell_type": "code",
   "execution_count": 250,
   "metadata": {
    "scrolled": true
   },
   "outputs": [
    {
     "name": "stdout",
     "output_type": "stream",
     "text": [
      "['3' '1' '2' 'nan']\n",
      "['Contributor' 'Grandmaster' nan 'Novice' 'Expert' 'Master']\n",
      "['Hot' 'Warm' 'Freezing' 'Lava Hot' 'Cold' 'Boiling Hot' nan]\n"
     ]
    }
   ],
   "source": [
    "for col in ['ord_0','ord_1','ord_2']:\n",
    "    print(train[col].unique())"
   ]
  },
  {
   "cell_type": "code",
   "execution_count": 248,
   "metadata": {},
   "outputs": [],
   "source": [
    "train['ord_0'] = train['ord_0'].fillna(0.0)"
   ]
  }
 ],
 "metadata": {
  "kernelspec": {
   "display_name": "Python 3",
   "language": "python",
   "name": "python3"
  },
  "language_info": {
   "codemirror_mode": {
    "name": "ipython",
    "version": 3
   },
   "file_extension": ".py",
   "mimetype": "text/x-python",
   "name": "python",
   "nbconvert_exporter": "python",
   "pygments_lexer": "ipython3",
   "version": "3.7.3"
  }
 },
 "nbformat": 4,
 "nbformat_minor": 2
}
