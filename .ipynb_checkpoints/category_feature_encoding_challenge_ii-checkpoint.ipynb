{
 "cells": [
  {
   "cell_type": "markdown",
   "metadata": {},
   "source": [
    "# Kaggle Categorical Feature Encoding Challenge II"
   ]
  },
  {
   "cell_type": "code",
   "execution_count": 1,
   "metadata": {},
   "outputs": [],
   "source": [
    "import pandas as pd\n",
    "import numpy as np\n",
    "import string\n",
    "from sklearn.model_selection import train_test_split\n",
    "from pandas.api.types import CategoricalDtype \n",
    "from sklearn.linear_model import LogisticRegression\n",
    "from sklearn.metrics import accuracy_score\n",
    "from scipy import stats\n",
    "import matplotlib.pyplot as plt\n",
    "import numpy as np\n",
    "%matplotlib inline"
   ]
  },
  {
   "cell_type": "code",
   "execution_count": 2,
   "metadata": {},
   "outputs": [],
   "source": [
    "from xgboost.sklearn import XGBClassifier"
   ]
  },
  {
   "cell_type": "code",
   "execution_count": 3,
   "metadata": {},
   "outputs": [],
   "source": [
    "train = pd.read_csv('train.csv')\n",
    "test = pd.read_csv('test.csv')"
   ]
  },
  {
   "cell_type": "code",
   "execution_count": 4,
   "metadata": {},
   "outputs": [],
   "source": [
    "def overview_table(df):\n",
    "    print(f\"Dataset Shape: {df.shape}\")\n",
    "    summary = pd.DataFrame(df.dtypes,columns=['dtypes'])\n",
    "    summary = summary.reset_index()\n",
    "    summary['Name'] = summary['index']\n",
    "    summary = summary[['Name','dtypes']]\n",
    "    summary['Missing'] = df.isnull().sum().values    \n",
    "    summary['Uniques'] = df.nunique().values\n",
    "    summary['First Value'] = df.loc[0].values\n",
    "    summary['Second Value'] = df.loc[1].values\n",
    "    summary['Third Value'] = df.loc[2].values\n",
    "    for name in summary['Name'].value_counts().index:\n",
    "        summary.loc[summary['Name'] == name, 'Entropy'] = round(stats.entropy(df[name].value_counts(normalize=True), base=2),2)\n",
    "    return summary"
   ]
  },
  {
   "cell_type": "markdown",
   "metadata": {},
   "source": [
    "\n",
    "\n",
    "Let's take an overview of the entire training set. From the output, it appears that for most of the columns, roughly 9% of values are missing. It's worth investigating further to get more information on these missing values"
   ]
  },
  {
   "cell_type": "code",
   "execution_count": 5,
   "metadata": {},
   "outputs": [
    {
     "name": "stdout",
     "output_type": "stream",
     "text": [
      "Dataset Shape: (600000, 25)\n"
     ]
    },
    {
     "data": {
      "text/html": [
       "<div>\n",
       "<style scoped>\n",
       "    .dataframe tbody tr th:only-of-type {\n",
       "        vertical-align: middle;\n",
       "    }\n",
       "\n",
       "    .dataframe tbody tr th {\n",
       "        vertical-align: top;\n",
       "    }\n",
       "\n",
       "    .dataframe thead th {\n",
       "        text-align: right;\n",
       "    }\n",
       "</style>\n",
       "<table border=\"1\" class=\"dataframe\">\n",
       "  <thead>\n",
       "    <tr style=\"text-align: right;\">\n",
       "      <th></th>\n",
       "      <th>Name</th>\n",
       "      <th>dtypes</th>\n",
       "      <th>Missing</th>\n",
       "      <th>Uniques</th>\n",
       "      <th>First Value</th>\n",
       "      <th>Second Value</th>\n",
       "      <th>Third Value</th>\n",
       "      <th>Entropy</th>\n",
       "    </tr>\n",
       "  </thead>\n",
       "  <tbody>\n",
       "    <tr>\n",
       "      <th>0</th>\n",
       "      <td>id</td>\n",
       "      <td>int64</td>\n",
       "      <td>0</td>\n",
       "      <td>600000</td>\n",
       "      <td>0</td>\n",
       "      <td>1</td>\n",
       "      <td>2</td>\n",
       "      <td>19.19</td>\n",
       "    </tr>\n",
       "    <tr>\n",
       "      <th>1</th>\n",
       "      <td>bin_0</td>\n",
       "      <td>float64</td>\n",
       "      <td>17894</td>\n",
       "      <td>2</td>\n",
       "      <td>0</td>\n",
       "      <td>1</td>\n",
       "      <td>0</td>\n",
       "      <td>0.44</td>\n",
       "    </tr>\n",
       "    <tr>\n",
       "      <th>2</th>\n",
       "      <td>bin_1</td>\n",
       "      <td>float64</td>\n",
       "      <td>18003</td>\n",
       "      <td>2</td>\n",
       "      <td>0</td>\n",
       "      <td>1</td>\n",
       "      <td>1</td>\n",
       "      <td>0.69</td>\n",
       "    </tr>\n",
       "    <tr>\n",
       "      <th>3</th>\n",
       "      <td>bin_2</td>\n",
       "      <td>float64</td>\n",
       "      <td>17930</td>\n",
       "      <td>2</td>\n",
       "      <td>0</td>\n",
       "      <td>0</td>\n",
       "      <td>0</td>\n",
       "      <td>0.85</td>\n",
       "    </tr>\n",
       "    <tr>\n",
       "      <th>4</th>\n",
       "      <td>bin_3</td>\n",
       "      <td>object</td>\n",
       "      <td>18014</td>\n",
       "      <td>2</td>\n",
       "      <td>F</td>\n",
       "      <td>F</td>\n",
       "      <td>F</td>\n",
       "      <td>0.95</td>\n",
       "    </tr>\n",
       "    <tr>\n",
       "      <th>5</th>\n",
       "      <td>bin_4</td>\n",
       "      <td>object</td>\n",
       "      <td>18047</td>\n",
       "      <td>2</td>\n",
       "      <td>N</td>\n",
       "      <td>Y</td>\n",
       "      <td>N</td>\n",
       "      <td>1.00</td>\n",
       "    </tr>\n",
       "    <tr>\n",
       "      <th>6</th>\n",
       "      <td>nom_0</td>\n",
       "      <td>object</td>\n",
       "      <td>18252</td>\n",
       "      <td>3</td>\n",
       "      <td>Red</td>\n",
       "      <td>Red</td>\n",
       "      <td>Red</td>\n",
       "      <td>1.31</td>\n",
       "    </tr>\n",
       "    <tr>\n",
       "      <th>7</th>\n",
       "      <td>nom_1</td>\n",
       "      <td>object</td>\n",
       "      <td>18156</td>\n",
       "      <td>6</td>\n",
       "      <td>Trapezoid</td>\n",
       "      <td>Star</td>\n",
       "      <td>NaN</td>\n",
       "      <td>2.27</td>\n",
       "    </tr>\n",
       "    <tr>\n",
       "      <th>8</th>\n",
       "      <td>nom_2</td>\n",
       "      <td>object</td>\n",
       "      <td>18035</td>\n",
       "      <td>6</td>\n",
       "      <td>Hamster</td>\n",
       "      <td>Axolotl</td>\n",
       "      <td>Hamster</td>\n",
       "      <td>2.27</td>\n",
       "    </tr>\n",
       "    <tr>\n",
       "      <th>9</th>\n",
       "      <td>nom_3</td>\n",
       "      <td>object</td>\n",
       "      <td>18121</td>\n",
       "      <td>6</td>\n",
       "      <td>Russia</td>\n",
       "      <td>NaN</td>\n",
       "      <td>Canada</td>\n",
       "      <td>2.27</td>\n",
       "    </tr>\n",
       "    <tr>\n",
       "      <th>10</th>\n",
       "      <td>nom_4</td>\n",
       "      <td>object</td>\n",
       "      <td>18035</td>\n",
       "      <td>4</td>\n",
       "      <td>Bassoon</td>\n",
       "      <td>Theremin</td>\n",
       "      <td>Bassoon</td>\n",
       "      <td>1.52</td>\n",
       "    </tr>\n",
       "    <tr>\n",
       "      <th>11</th>\n",
       "      <td>nom_5</td>\n",
       "      <td>object</td>\n",
       "      <td>17778</td>\n",
       "      <td>1220</td>\n",
       "      <td>de4c57ee2</td>\n",
       "      <td>2bb3c3e5c</td>\n",
       "      <td>b574c9841</td>\n",
       "      <td>9.98</td>\n",
       "    </tr>\n",
       "    <tr>\n",
       "      <th>12</th>\n",
       "      <td>nom_6</td>\n",
       "      <td>object</td>\n",
       "      <td>18131</td>\n",
       "      <td>1519</td>\n",
       "      <td>a64bc7ddf</td>\n",
       "      <td>3a3a936e8</td>\n",
       "      <td>708248125</td>\n",
       "      <td>10.30</td>\n",
       "    </tr>\n",
       "    <tr>\n",
       "      <th>13</th>\n",
       "      <td>nom_7</td>\n",
       "      <td>object</td>\n",
       "      <td>18003</td>\n",
       "      <td>222</td>\n",
       "      <td>598080a91</td>\n",
       "      <td>1dddb8473</td>\n",
       "      <td>5ddc9a726</td>\n",
       "      <td>7.54</td>\n",
       "    </tr>\n",
       "    <tr>\n",
       "      <th>14</th>\n",
       "      <td>nom_8</td>\n",
       "      <td>object</td>\n",
       "      <td>17755</td>\n",
       "      <td>222</td>\n",
       "      <td>0256c7a4b</td>\n",
       "      <td>52ead350c</td>\n",
       "      <td>745b909d1</td>\n",
       "      <td>7.54</td>\n",
       "    </tr>\n",
       "    <tr>\n",
       "      <th>15</th>\n",
       "      <td>nom_9</td>\n",
       "      <td>object</td>\n",
       "      <td>18073</td>\n",
       "      <td>2218</td>\n",
       "      <td>02e7c8990</td>\n",
       "      <td>f37df64af</td>\n",
       "      <td>NaN</td>\n",
       "      <td>10.84</td>\n",
       "    </tr>\n",
       "    <tr>\n",
       "      <th>16</th>\n",
       "      <td>ord_0</td>\n",
       "      <td>float64</td>\n",
       "      <td>18288</td>\n",
       "      <td>3</td>\n",
       "      <td>3</td>\n",
       "      <td>3</td>\n",
       "      <td>3</td>\n",
       "      <td>1.57</td>\n",
       "    </tr>\n",
       "    <tr>\n",
       "      <th>17</th>\n",
       "      <td>ord_1</td>\n",
       "      <td>object</td>\n",
       "      <td>18041</td>\n",
       "      <td>5</td>\n",
       "      <td>Contributor</td>\n",
       "      <td>Grandmaster</td>\n",
       "      <td>NaN</td>\n",
       "      <td>2.27</td>\n",
       "    </tr>\n",
       "    <tr>\n",
       "      <th>18</th>\n",
       "      <td>ord_2</td>\n",
       "      <td>object</td>\n",
       "      <td>18075</td>\n",
       "      <td>6</td>\n",
       "      <td>Hot</td>\n",
       "      <td>Warm</td>\n",
       "      <td>Freezing</td>\n",
       "      <td>2.52</td>\n",
       "    </tr>\n",
       "    <tr>\n",
       "      <th>19</th>\n",
       "      <td>ord_3</td>\n",
       "      <td>object</td>\n",
       "      <td>17916</td>\n",
       "      <td>15</td>\n",
       "      <td>c</td>\n",
       "      <td>e</td>\n",
       "      <td>n</td>\n",
       "      <td>3.64</td>\n",
       "    </tr>\n",
       "    <tr>\n",
       "      <th>20</th>\n",
       "      <td>ord_4</td>\n",
       "      <td>object</td>\n",
       "      <td>17930</td>\n",
       "      <td>26</td>\n",
       "      <td>U</td>\n",
       "      <td>X</td>\n",
       "      <td>P</td>\n",
       "      <td>4.41</td>\n",
       "    </tr>\n",
       "    <tr>\n",
       "      <th>21</th>\n",
       "      <td>ord_5</td>\n",
       "      <td>object</td>\n",
       "      <td>17713</td>\n",
       "      <td>190</td>\n",
       "      <td>Pw</td>\n",
       "      <td>pE</td>\n",
       "      <td>eN</td>\n",
       "      <td>7.27</td>\n",
       "    </tr>\n",
       "    <tr>\n",
       "      <th>22</th>\n",
       "      <td>day</td>\n",
       "      <td>float64</td>\n",
       "      <td>17952</td>\n",
       "      <td>7</td>\n",
       "      <td>6</td>\n",
       "      <td>7</td>\n",
       "      <td>5</td>\n",
       "      <td>2.70</td>\n",
       "    </tr>\n",
       "    <tr>\n",
       "      <th>23</th>\n",
       "      <td>month</td>\n",
       "      <td>float64</td>\n",
       "      <td>17988</td>\n",
       "      <td>12</td>\n",
       "      <td>3</td>\n",
       "      <td>7</td>\n",
       "      <td>9</td>\n",
       "      <td>3.37</td>\n",
       "    </tr>\n",
       "    <tr>\n",
       "      <th>24</th>\n",
       "      <td>target</td>\n",
       "      <td>int64</td>\n",
       "      <td>0</td>\n",
       "      <td>2</td>\n",
       "      <td>0</td>\n",
       "      <td>0</td>\n",
       "      <td>0</td>\n",
       "      <td>0.70</td>\n",
       "    </tr>\n",
       "  </tbody>\n",
       "</table>\n",
       "</div>"
      ],
      "text/plain": [
       "      Name   dtypes  Missing  Uniques  First Value Second Value Third Value  \\\n",
       "0       id    int64        0   600000            0            1           2   \n",
       "1    bin_0  float64    17894        2            0            1           0   \n",
       "2    bin_1  float64    18003        2            0            1           1   \n",
       "3    bin_2  float64    17930        2            0            0           0   \n",
       "4    bin_3   object    18014        2            F            F           F   \n",
       "5    bin_4   object    18047        2            N            Y           N   \n",
       "6    nom_0   object    18252        3          Red          Red         Red   \n",
       "7    nom_1   object    18156        6    Trapezoid         Star         NaN   \n",
       "8    nom_2   object    18035        6      Hamster      Axolotl     Hamster   \n",
       "9    nom_3   object    18121        6       Russia          NaN      Canada   \n",
       "10   nom_4   object    18035        4      Bassoon     Theremin     Bassoon   \n",
       "11   nom_5   object    17778     1220    de4c57ee2    2bb3c3e5c   b574c9841   \n",
       "12   nom_6   object    18131     1519    a64bc7ddf    3a3a936e8   708248125   \n",
       "13   nom_7   object    18003      222    598080a91    1dddb8473   5ddc9a726   \n",
       "14   nom_8   object    17755      222    0256c7a4b    52ead350c   745b909d1   \n",
       "15   nom_9   object    18073     2218    02e7c8990    f37df64af         NaN   \n",
       "16   ord_0  float64    18288        3            3            3           3   \n",
       "17   ord_1   object    18041        5  Contributor  Grandmaster         NaN   \n",
       "18   ord_2   object    18075        6          Hot         Warm    Freezing   \n",
       "19   ord_3   object    17916       15            c            e           n   \n",
       "20   ord_4   object    17930       26            U            X           P   \n",
       "21   ord_5   object    17713      190           Pw           pE          eN   \n",
       "22     day  float64    17952        7            6            7           5   \n",
       "23   month  float64    17988       12            3            7           9   \n",
       "24  target    int64        0        2            0            0           0   \n",
       "\n",
       "    Entropy  \n",
       "0     19.19  \n",
       "1      0.44  \n",
       "2      0.69  \n",
       "3      0.85  \n",
       "4      0.95  \n",
       "5      1.00  \n",
       "6      1.31  \n",
       "7      2.27  \n",
       "8      2.27  \n",
       "9      2.27  \n",
       "10     1.52  \n",
       "11     9.98  \n",
       "12    10.30  \n",
       "13     7.54  \n",
       "14     7.54  \n",
       "15    10.84  \n",
       "16     1.57  \n",
       "17     2.27  \n",
       "18     2.52  \n",
       "19     3.64  \n",
       "20     4.41  \n",
       "21     7.27  \n",
       "22     2.70  \n",
       "23     3.37  \n",
       "24     0.70  "
      ]
     },
     "execution_count": 5,
     "metadata": {},
     "output_type": "execute_result"
    }
   ],
   "source": [
    "overview_table(train)"
   ]
  },
  {
   "cell_type": "markdown",
   "metadata": {},
   "source": [
    "## Null Value Analysis"
   ]
  },
  {
   "cell_type": "markdown",
   "metadata": {},
   "source": [
    "It appears that the majority of the time there is either no null or one null on any given given row. This eliminates the possibility that there are many rows where many of the features are null at once. It appears very inconsistent. I would still like to look further at the null's by column and see their impact on the predictor before taking any action on them."
   ]
  },
  {
   "cell_type": "markdown",
   "metadata": {},
   "source": [
    "missing_vals = train.isnull().sum(axis=1)\n",
    "plt.hist(missing_vals, normed=True, bins=30)\n",
    "plt.ylabel('Probability');\n",
    "plt.title('Number of Nulls in a Row')\n",
    "plt.show()"
   ]
  },
  {
   "cell_type": "code",
   "execution_count": 6,
   "metadata": {},
   "outputs": [],
   "source": [
    "#train[train['bin_0'].notna()]['target'].value_counts()/len(train[train['bin_0'].notna()])\n",
    "sel_cols = ['bin_0', 'bin_1', 'bin_2', 'bin_3', 'bin_4', 'nom_0', 'nom_1','nom_2', 'nom_3', 'nom_4', 'nom_5', \n",
    "            'nom_6', 'nom_7', 'nom_8', 'nom_9','ord_0', 'ord_1', 'ord_2', 'ord_3', 'ord_4', 'ord_5', 'day', 'month']\n",
    "na_diff = []\n",
    "col_diff = []\n",
    "for col in sel_cols:\n",
    "    col_diff.append(col)\n",
    "    na_diff.append((train[train[col].notna()]['target'].value_counts()/len(train[train[col].notna()]))[0]-\\\n",
    "                   (train[train[col].isna()]['target'].value_counts()/len(train[train[col].isna()]))[0])"
   ]
  },
  {
   "cell_type": "markdown",
   "metadata": {},
   "source": [
    "I want to now compare the null values against the non-nulls and see their impact for each feature against the predictor variable. It doesn't appear that any of the features having null values leads to a signficantly different result against the non-nulls. The most signficant deviation was day changing by 0.8% lower in the not-nas. This makes me more comfortable processing these na's without worrying about signficant impact"
   ]
  },
  {
   "cell_type": "code",
   "execution_count": 7,
   "metadata": {
    "scrolled": false
   },
   "outputs": [
    {
     "data": {
      "image/png": "[encoded data removed]",
      "text/plain": [
       "<Figure size 432x288 with 1 Axes>"
      ]
     },
     "metadata": {
      "needs_background": "light"
     },
     "output_type": "display_data"
    }
   ],
   "source": [
    "plt.bar(col_diff,na_diff)\n",
    "plt.xticks(rotation='vertical')\n",
    "plt.title(\"Percent difference between null values vs. non-null values on predictor variable\")\n",
    "plt.show()"
   ]
  },
  {
   "cell_type": "markdown",
   "metadata": {},
   "source": [
    "## Feature Engineering"
   ]
  },
  {
   "cell_type": "markdown",
   "metadata": {},
   "source": [
    "### Binary Features"
   ]
  },
  {
   "cell_type": "markdown",
   "metadata": {},
   "source": [
    "For the binary features, I will change the missing values/na's to be -1, creating a category for themself as to not improperly weight the balance already existing in the feature."
   ]
  },
  {
   "cell_type": "code",
   "execution_count": 8,
   "metadata": {},
   "outputs": [],
   "source": [
    "#The first 3 bin features are already in numeric representation so I just need to apply fillna\n",
    "train['bin_0'] = train['bin_0'].fillna(-1)\n",
    "test['bin_0'] = test['bin_0'].fillna(-1)\n",
    "train['bin_1'] = train['bin_1'].fillna(-1)\n",
    "test['bin_1'] = test['bin_1'].fillna(-1)\n",
    "train['bin_2'] = train['bin_2'].fillna(-1)\n",
    "test['bin_2'] = test['bin_2'].fillna(-1)"
   ]
  },
  {
   "cell_type": "code",
   "execution_count": 9,
   "metadata": {},
   "outputs": [],
   "source": [
    "repl = {'T' : 1, 'F' : 0, 'Y' : 1, 'N' : 0}\n",
    "#map numeric values\n",
    "train['bin_3'] = train['bin_3'].map(repl)\n",
    "test['bin_3'] = test['bin_3'].map(repl)\n",
    "train['bin_4'] = train['bin_4'].map(repl)\n",
    "test['bin_4'] = test['bin_4'].map(repl)\n",
    "#replace nas\n",
    "train['bin_3'] = train['bin_3'].fillna(-1)\n",
    "test['bin_3'] = test['bin_3'].fillna(-1)\n",
    "train['bin_4'] = train['bin_4'].fillna(-1)\n",
    "test['bin_4'] = test['bin_4'].fillna(-1)"
   ]
  },
  {
   "cell_type": "markdown",
   "metadata": {},
   "source": [
    "### Low-Cardinality Nominal Features"
   ]
  },
  {
   "cell_type": "code",
   "execution_count": 10,
   "metadata": {},
   "outputs": [],
   "source": [
    "#One hot encode nominal features\n",
    "train = pd.get_dummies(train, columns=['nom_0', 'nom_1', 'nom_2', 'nom_3', 'nom_4'],\\\n",
    "                          prefix=['nom_0', 'nom_1', 'nom_2', 'nom_3', 'nom_4'],dummy_na=True,drop_first=True)\n",
    "test = pd.get_dummies(test, columns=['nom_0', 'nom_1', 'nom_2', 'nom_3', 'nom_4'],\\\n",
    "                          prefix=['nom_0', 'nom_1', 'nom_2', 'nom_3', 'nom_4'],dummy_na=True,drop_first=True)"
   ]
  },
  {
   "cell_type": "markdown",
   "metadata": {},
   "source": [
    "### High-Cardinality Nominal Features"
   ]
  },
  {
   "cell_type": "code",
   "execution_count": 11,
   "metadata": {},
   "outputs": [],
   "source": [
    "high_card_nom = ['nom_5', 'nom_6', 'nom_7', 'nom_8', 'nom_9']\n",
    "\n",
    "for col in high_card_nom:\n",
    "    train[f'hash_{col}'] = train[col].apply( lambda x: hash(str(x)) % 5000 )\n",
    "    test[f'hash_{col}'] = test[col].apply( lambda x: hash(str(x)) % 5000 )\n",
    "    train = train.drop([col], axis = 1)\n",
    "    test = test.drop([col], axis = 1)"
   ]
  },
  {
   "cell_type": "markdown",
   "metadata": {},
   "source": [
    "It appears that the hashed value of an NA is 3898 as can be seen from the histogram below. I will evaluate whether or not this should be imputed with the mean value or it should be left in this position"
   ]
  },
  {
   "cell_type": "code",
   "execution_count": 12,
   "metadata": {
    "scrolled": true
   },
   "outputs": [
    {
     "data": {
      "image/png": "[encoded data removed]",
      "text/plain": [
       "<Figure size 432x288 with 1 Axes>"
      ]
     },
     "metadata": {
      "needs_background": "light"
     },
     "output_type": "display_data"
    }
   ],
   "source": [
    "plt.hist(train['hash_nom_6'], bins = 100,color = 'purple')\n",
    "plt.ylabel('Count');\n",
    "plt.title('Distribution of Hashed Values for Nom_6')\n",
    "plt.show()"
   ]
  },
  {
   "cell_type": "markdown",
   "metadata": {},
   "source": [
    "### Low-Cardinality Ordinal Features"
   ]
  },
  {
   "cell_type": "code",
   "execution_count": 13,
   "metadata": {
    "scrolled": true
   },
   "outputs": [
    {
     "name": "stdout",
     "output_type": "stream",
     "text": [
      "[ 3.  1.  2. nan]\n",
      "['Contributor' 'Grandmaster' nan 'Novice' 'Expert' 'Master']\n",
      "['Hot' 'Warm' 'Freezing' 'Lava Hot' 'Cold' 'Boiling Hot' nan]\n"
     ]
    }
   ],
   "source": [
    "for col in ['ord_0','ord_1','ord_2']:\n",
    "    print(train[col].unique())"
   ]
  },
  {
   "cell_type": "markdown",
   "metadata": {},
   "source": [
    "Impute values of NA with mean and add another column showing the NAs to preserve it."
   ]
  },
  {
   "cell_type": "code",
   "execution_count": 14,
   "metadata": {},
   "outputs": [],
   "source": [
    "map_tf = {True : 1, False : 0}"
   ]
  },
  {
   "cell_type": "code",
   "execution_count": 15,
   "metadata": {},
   "outputs": [],
   "source": [
    "train['ord_0_nas'] = train['ord_0'].isna().map(map_tf)\n",
    "train['ord_0'] = train['ord_0'].fillna(train['ord_0'].mean())\n",
    "test['ord_0_nas'] = test['ord_0'].isna().map(map_tf)\n",
    "test['ord_0'] = test['ord_0'].fillna(test['ord_0'].mean())"
   ]
  },
  {
   "cell_type": "code",
   "execution_count": 16,
   "metadata": {},
   "outputs": [],
   "source": [
    "map_status = {'NA' : 0, 'Novice' : 1, 'Contributor' : 2, 'Expert' : 3, 'Master' : 4,'Grandmaster':5}"
   ]
  },
  {
   "cell_type": "code",
   "execution_count": 17,
   "metadata": {},
   "outputs": [],
   "source": [
    "train['ord_1'] = train['ord_1'].fillna(\"NA\").map(map_status)\n",
    "test['ord_1'] = test['ord_1'].fillna(\"NA\").map(map_status)"
   ]
  },
  {
   "cell_type": "code",
   "execution_count": 18,
   "metadata": {},
   "outputs": [],
   "source": [
    "map_temp = {'NA' : 0, 'Freezing' : 1, 'Cold' : 2, 'Warm' : 3, 'Hot' : 4, 'Boiling Hot' : 5, 'Lava Hot' : 6}"
   ]
  },
  {
   "cell_type": "code",
   "execution_count": 19,
   "metadata": {},
   "outputs": [],
   "source": [
    "train['ord_2'] = train['ord_2'].fillna(\"NA\").map(map_temp)\n",
    "test['ord_2'] = test['ord_2'].fillna(\"NA\").map(map_temp)"
   ]
  },
  {
   "cell_type": "markdown",
   "metadata": {},
   "source": [
    "We should just be able to use the ord() function for ord_3 and ord_4 to get an integer representing the Unicode code point. I will code nan to be 'm' as the midpoint of the alphabet"
   ]
  },
  {
   "cell_type": "code",
   "execution_count": 20,
   "metadata": {},
   "outputs": [],
   "source": [
    "train['ord_3'] = train['ord_3'].fillna('m')\n",
    "train['ord_3'] = train['ord_3'].map(lambda x:ord(x))\n",
    "test['ord_3'] = test['ord_3'].fillna('m')\n",
    "test['ord_3'] = test['ord_3'].map(lambda x:ord(x))"
   ]
  },
  {
   "cell_type": "code",
   "execution_count": 21,
   "metadata": {},
   "outputs": [],
   "source": [
    "train['ord_4'] = train['ord_4'].fillna('M')\n",
    "train['ord_4'] = train['ord_4'].map(lambda x:ord(x))\n",
    "test['ord_4'] = test['ord_4'].fillna('M')\n",
    "test['ord_4'] = test['ord_4'].map(lambda x:ord(x))"
   ]
  },
  {
   "cell_type": "markdown",
   "metadata": {},
   "source": [
    "There are multiple ways we could go about feature engineering ord_5. We could create two columns with the ord values for each. Or split them, get the ord values, then sum them together. I will try both and see which results in better accuracy. I mapped NAs to be 'ZZ' as it is close to the midpoint in the ord() values across uppercase and lowercase letters."
   ]
  },
  {
   "cell_type": "code",
   "execution_count": 22,
   "metadata": {},
   "outputs": [],
   "source": [
    "train['ord_5'] = train['ord_5'].fillna('ZZ')\n",
    "test['ord_5'] = test['ord_5'].fillna('ZZ')"
   ]
  },
  {
   "cell_type": "code",
   "execution_count": 23,
   "metadata": {
    "scrolled": true
   },
   "outputs": [],
   "source": [
    "train['ord_5_left'] = train['ord_5'].map(lambda x:x[0])\n",
    "train['ord_5_right'] = train['ord_5'].map(lambda x:x[1])\n",
    "train = train.drop(['ord_5'], axis = 1)\n",
    "test['ord_5_left'] = test['ord_5'].map(lambda x:x[0])\n",
    "test['ord_5_right'] = test['ord_5'].map(lambda x:x[1])\n",
    "test = test.drop(['ord_5'], axis = 1)"
   ]
  },
  {
   "cell_type": "code",
   "execution_count": 24,
   "metadata": {},
   "outputs": [],
   "source": [
    "train['ord_5_left'] = train['ord_5_left'].map(lambda x:ord(x))\n",
    "train['ord_5_right'] = train['ord_5_right'].map(lambda x:ord(x))\n",
    "test['ord_5_left'] = test['ord_5_left'].map(lambda x:ord(x))\n",
    "test['ord_5_right'] = test['ord_5_right'].map(lambda x:ord(x))"
   ]
  },
  {
   "cell_type": "markdown",
   "metadata": {},
   "source": [
    "### Date Features "
   ]
  },
  {
   "cell_type": "markdown",
   "metadata": {},
   "source": [
    "These features are already in numeric representation but for cycle features we can apply a sin/cos function to them giving us two columns. It is interesting the the day column on has values up to 7 so for NAs i will represent them at 3.5"
   ]
  },
  {
   "cell_type": "code",
   "execution_count": 25,
   "metadata": {
    "scrolled": true
   },
   "outputs": [
    {
     "name": "stderr",
     "output_type": "stream",
     "text": [
      "/home/cole-larrabee/anaconda3/lib/python3.7/site-packages/numpy/lib/histograms.py:824: RuntimeWarning: invalid value encountered in greater_equal\n",
      "  keep = (tmp_a >= first_edge)\n",
      "/home/cole-larrabee/anaconda3/lib/python3.7/site-packages/numpy/lib/histograms.py:825: RuntimeWarning: invalid value encountered in less_equal\n",
      "  keep &= (tmp_a <= last_edge)\n"
     ]
    },
    {
     "data": {
      "image/png": "[encoded data removed]",
      "text/plain": [
       "<Figure size 432x288 with 2 Axes>"
      ]
     },
     "metadata": {
      "needs_background": "light"
     },
     "output_type": "display_data"
    }
   ],
   "source": [
    "fig, (ax1, ax2) = plt.subplots(1, 2, gridspec_kw={'width_ratios': [3, 3]})\n",
    "fig.suptitle('Horizontally stacked subplots')\n",
    "ax1.hist(train['day'], bins = 30,color = 'orange')\n",
    "ax2.hist(train['month'], bins = 12,color = 'red')\n",
    "plt.show()"
   ]
  },
  {
   "cell_type": "code",
   "execution_count": 26,
   "metadata": {},
   "outputs": [],
   "source": [
    "train['day'] = train['day'].fillna(3.5)\n",
    "train['month'] = train['month'].fillna(6)\n",
    "test['day'] = test['day'].fillna(3.5)\n",
    "test['month'] = test['month'].fillna(6)"
   ]
  },
  {
   "cell_type": "code",
   "execution_count": 27,
   "metadata": {},
   "outputs": [],
   "source": [
    "columns=['day','month']\n",
    "for col in columns:\n",
    "    train[col+'_sin']=np.sin((2*np.pi*train[col])/max(train[col]))\n",
    "    train[col+'_cos']=np.cos((2*np.pi*train[col])/max(train[col]))\n",
    "    test[col+'_sin']=np.sin((2*np.pi*train[col])/max(train[col]))\n",
    "    test[col+'_cos']=np.cos((2*np.pi*train[col])/max(train[col]))\n",
    "train=train.drop(columns,axis=1)\n",
    "test=test.drop(columns,axis=1)"
   ]
  },
  {
   "cell_type": "markdown",
   "metadata": {},
   "source": [
    "## Model Building"
   ]
  },
  {
   "cell_type": "markdown",
   "metadata": {},
   "source": [
    "### Split Train to Train/Test"
   ]
  },
  {
   "cell_type": "code",
   "execution_count": 28,
   "metadata": {},
   "outputs": [],
   "source": [
    "y = train['target']\n",
    "df = train.drop(['id','target'], axis = 1)"
   ]
  },
  {
   "cell_type": "code",
   "execution_count": 29,
   "metadata": {},
   "outputs": [],
   "source": [
    "X_train,X_test,y_train,y_test = train_test_split(df,y,test_size=0.2)"
   ]
  },
  {
   "cell_type": "markdown",
   "metadata": {},
   "source": [
    "### Hyperparameter Tuning"
   ]
  },
  {
   "cell_type": "code",
   "execution_count": 30,
   "metadata": {},
   "outputs": [],
   "source": [
    "from sklearn.model_selection import GridSearchCV\n",
    "# grid={'C': [0.001, 0.01, 0.1, 1, 10, 100, 1000]} # l1 lasso l2 ridge\n",
    "# clf=LogisticRegression()\n",
    "# clf_cv=GridSearchCV(clf,grid,cv=10)\n",
    "# clf_cv.fit(X_train,y_train)\n",
    "# print(\"tuned hpyerparameters :(best parameters) \",clf_cv.best_params_)\n",
    "# print(\"accuracy :\",clf_cv.best_score_)"
   ]
  },
  {
   "cell_type": "code",
   "execution_count": 31,
   "metadata": {},
   "outputs": [],
   "source": [
    "# xgb_grid = {\"learning_rate\"    : [0.05, 0.15, 0.20, 0.30 ] ,\n",
    "#  \"max_depth\"        : [ 3,5, 8, 10, 25],\n",
    "#  \"min_child_weight\" : [ 1, 3, 5, 7 ],\n",
    "#  \"gamma\"            : [ 0.0, 0.2 , 0.4 ],\n",
    "#  \"colsample_bytree\" : [ 0.3, 0.5 , 0.7 ],\n",
    "#            \"n_jobs\" : [-1]}"
   ]
  },
  {
   "cell_type": "markdown",
   "metadata": {},
   "source": [
    "Taking a subset of the data to allow the grid search to go quicker"
   ]
  },
  {
   "cell_type": "code",
   "execution_count": 32,
   "metadata": {
    "scrolled": true
   },
   "outputs": [],
   "source": [
    "# X_subset = X_train.sample(int((len(X_train)/25)), random_state=5)\n",
    "# y_subset = y_train.sample(int((len(y_train)/25)), random_state=5)"
   ]
  },
  {
   "cell_type": "code",
   "execution_count": 33,
   "metadata": {},
   "outputs": [],
   "source": [
    "# xgb=XGBClassifier()\n",
    "# xgb_cv=GridSearchCV(xgb,xgb_grid, cv = 7)\n",
    "# xgb_cv.fit(X_subset,y_subset)"
   ]
  },
  {
   "cell_type": "code",
   "execution_count": 34,
   "metadata": {},
   "outputs": [],
   "source": [
    "# xgb_cv.best_params_"
   ]
  },
  {
   "cell_type": "markdown",
   "metadata": {},
   "source": [
    "### Final Model (XGBoost Classifier)"
   ]
  },
  {
   "cell_type": "code",
   "execution_count": 36,
   "metadata": {},
   "outputs": [],
   "source": [
    "xgb=XGBClassifier(colsample_bytree= 0.7,gamma= 0.4,learning_rate= 0.2,max_depth= 3, min_child_weight= 1,n_jobs= -1)"
   ]
  },
  {
   "cell_type": "code",
   "execution_count": 37,
   "metadata": {},
   "outputs": [
    {
     "data": {
      "text/plain": [
       "XGBClassifier(base_score=0.5, booster='gbtree', colsample_bylevel=1,\n",
       "       colsample_bynode=1, colsample_bytree=0.7, gamma=0.4,\n",
       "       learning_rate=0.2, max_delta_step=0, max_depth=3,\n",
       "       min_child_weight=1, missing=None, n_estimators=100, n_jobs=-1,\n",
       "       nthread=None, objective='binary:logistic', random_state=0,\n",
       "       reg_alpha=0, reg_lambda=1, scale_pos_weight=1, seed=None,\n",
       "       silent=None, subsample=1, verbosity=1)"
      ]
     },
     "execution_count": 37,
     "metadata": {},
     "output_type": "execute_result"
    }
   ],
   "source": [
    "xgb.fit(X_train,y_train)"
   ]
  },
  {
   "cell_type": "code",
   "execution_count": 38,
   "metadata": {},
   "outputs": [],
   "source": [
    "y_pred_xgb = xgb.predict(X_test)"
   ]
  },
  {
   "cell_type": "code",
   "execution_count": 39,
   "metadata": {},
   "outputs": [
    {
     "data": {
      "text/plain": [
       "0.819725"
      ]
     },
     "execution_count": 39,
     "metadata": {},
     "output_type": "execute_result"
    }
   ],
   "source": [
    "accuracy_score(y_test,y_pred_xgb)"
   ]
  },
  {
   "cell_type": "markdown",
   "metadata": {},
   "source": [
    "### Final Model (Log Regression)"
   ]
  },
  {
   "cell_type": "code",
   "execution_count": 41,
   "metadata": {},
   "outputs": [],
   "source": [
    "clf = LogisticRegression(C=1, solver=\"lbfgs\", max_iter=250, n_jobs=-1)"
   ]
  },
  {
   "cell_type": "code",
   "execution_count": 42,
   "metadata": {},
   "outputs": [
    {
     "data": {
      "text/plain": [
       "LogisticRegression(C=1, class_weight=None, dual=False, fit_intercept=True,\n",
       "          intercept_scaling=1, max_iter=250, multi_class='warn', n_jobs=-1,\n",
       "          penalty='l2', random_state=None, solver='lbfgs', tol=0.0001,\n",
       "          verbose=0, warm_start=False)"
      ]
     },
     "execution_count": 42,
     "metadata": {},
     "output_type": "execute_result"
    }
   ],
   "source": [
    "clf.fit(X_train, y_train)"
   ]
  },
  {
   "cell_type": "code",
   "execution_count": 43,
   "metadata": {},
   "outputs": [],
   "source": [
    "y_pred = clf.predict(X_test)\n",
    "y_proba_pred = clf.predict_proba(X_test)[:,1]"
   ]
  },
  {
   "cell_type": "code",
   "execution_count": 44,
   "metadata": {},
   "outputs": [
    {
     "data": {
      "text/plain": [
       "0.81305"
      ]
     },
     "execution_count": 44,
     "metadata": {},
     "output_type": "execute_result"
    }
   ],
   "source": [
    "accuracy_score(y_test,y_pred)"
   ]
  },
  {
   "cell_type": "markdown",
   "metadata": {},
   "source": [
    "XGBoost appears to be slightly better in this case to the logistic regression model so I will submit that"
   ]
  },
  {
   "cell_type": "markdown",
   "metadata": {},
   "source": [
    "### Final Submission"
   ]
  },
  {
   "cell_type": "code",
   "execution_count": 51,
   "metadata": {
    "scrolled": false
   },
   "outputs": [],
   "source": [
    "test_id = test['id']\n",
    "test = test.drop(['id'], axis = 1)\n",
    "final_pred_log = clf.predict_proba(test)[:, 1]\n",
    "final_pred_xgb = xgb.predict_proba(test)[:, 1]"
   ]
  },
  {
   "cell_type": "code",
   "execution_count": 52,
   "metadata": {
    "scrolled": true
   },
   "outputs": [],
   "source": [
    "pd.DataFrame({\"id\": test_id, \"target\": final_pred_xgb}).to_csv(\"submission.csv\", index=False)"
   ]
  }
 ],
 "metadata": {
  "kernelspec": {
   "display_name": "Python 3",
   "language": "python",
   "name": "python3"
  },
  "language_info": {
   "codemirror_mode": {
    "name": "ipython",
    "version": 3
   },
   "file_extension": ".py",
   "mimetype": "text/x-python",
   "name": "python",
   "nbconvert_exporter": "python",
   "pygments_lexer": "ipython3",
   "version": "3.7.3"
  }
 },
 "nbformat": 4,
 "nbformat_minor": 2
}
